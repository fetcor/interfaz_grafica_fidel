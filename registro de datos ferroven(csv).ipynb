{
 "cells": [
  {
   "cell_type": "code",
   "execution_count": null,
   "id": "2b6ecd2e",
   "metadata": {},
   "outputs": [],
   "source": [
    "import tkinter as tk\n",
    "import csv\n",
    "\n",
    "root = tk.Tk()\n",
    "app = App(root)\n",
    "\n",
    "class App(tk.Frame):\n",
    "    def __init__(self, master=None):\n",
    "        super().__init__(master)\n",
    "        self.master.title(\"Registro de personal\")\n",
    "        self.pack()\n",
    "\n",
    "        # Crear widgets\n",
    "        self.lbl_nombre = tk.Label(self, text=\"Nombre:\")\n",
    "        self.ent_nombre = tk.Entry(self)\n",
    "        self.lbl_apellido = tk.Label(self, text=\"Apellido:\")\n",
    "        self.ent_apellido = tk.Entry(self)\n",
    "        self.lbl_dni = tk.Label(self, text=\"DNI:\")\n",
    "        self.ent_dni = tk.Entry(self)\n",
    "        self.lbl_cargo = tk.Label(self, text=\"Cargo:\")\n",
    "        self.ent_cargo = tk.Entry(self)\n",
    "        self.lbl_salario = tk.Label(self, text=\"Salario:\")\n",
    "        self.ent_salario = tk.Entry(self)\n",
    "        self.btn_registrar = tk.Button(self, text=\"Registrar\", command=self.registrar)\n",
    "\n",
    "        # Alinear widgets\n",
    "        self.lbl_nombre.grid(row=0, column=0)\n",
    "        self.ent_nombre.grid(row=0, column=1)\n",
    "        self.lbl_apellido.grid(row=1, column=0)\n",
    "        self.ent_apellido.grid(row=1, column=1)\n",
    "        self.lbl_dni.grid(row=2, column=0)\n",
    "        self.ent_dni.grid(row=2, column=1)\n",
    "        self.lbl_cargo.grid(row=3, column=0)\n",
    "        self.ent_cargo.grid(row=3, column=1)\n",
    "        self.lbl_salario.grid(row=4, column=0)\n",
    "        self.ent_salario.grid(row=4, column=1)\n",
    "        self.btn_registrar.grid(row=5, column=1)\n",
    "\n",
    "    def registrar(self):\n",
    "        # Obtener los datos del usuario\n",
    "        nombre = self.ent_nombre.get()\n",
    "        apellido = self.ent_apellido.get()\n",
    "        dni = self.ent_dni.get()\n",
    "        cargo = self.ent_cargo.get()\n",
    "        salario = self.ent_salario.get()\n",
    "\n",
    "        # Guardar los datos en un archivo CSV\n",
    "        with open(\"datos_personal.csv\", \"a\") as f:\n",
    "            writer = csv.writer(f)\n",
    "            writer.writerow([nombre, apellido, dni, cargo, salario])\n",
    "\n",
    "        # Mostrar un mensaje de confirmación\n",
    "        tk.messagebox.showinfo(\"Información\", \"Los datos se han registrado correctamente.\")\n",
    "        \n",
    "\n",
    "app.mainloop()\n",
    "\n"
   ]
  },
  {
   "cell_type": "code",
   "execution_count": null,
   "id": "c1eef137",
   "metadata": {},
   "outputs": [],
   "source": []
  }
 ],
 "metadata": {
  "kernelspec": {
   "display_name": "Python 3 (ipykernel)",
   "language": "python",
   "name": "python3"
  },
  "language_info": {
   "codemirror_mode": {
    "name": "ipython",
    "version": 3
   },
   "file_extension": ".py",
   "mimetype": "text/x-python",
   "name": "python",
   "nbconvert_exporter": "python",
   "pygments_lexer": "ipython3",
   "version": "3.11.2"
  }
 },
 "nbformat": 4,
 "nbformat_minor": 5
}
